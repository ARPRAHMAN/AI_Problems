{
  "nbformat": 4,
  "nbformat_minor": 0,
  "metadata": {
    "colab": {
      "provenance": [],
      "gpuType": "T4",
      "mount_file_id": "1QlVFmEBAEP0GUSx7vDuAoM_01SJreMB-",
      "authorship_tag": "ABX9TyN+89wrcZO5Not81oi4aV54",
      "include_colab_link": true
    },
    "kernelspec": {
      "name": "python3",
      "display_name": "Python 3"
    },
    "language_info": {
      "name": "python"
    },
    "accelerator": "GPU",
    "widgets": {
      "application/vnd.jupyter.widget-state+json": {
        "bef7aba9d3764b88a966d9a55770d786": {
          "model_module": "@jupyter-widgets/controls",
          "model_name": "LabelModel",
          "model_module_version": "1.5.0",
          "state": {
            "_dom_classes": [],
            "_model_module": "@jupyter-widgets/controls",
            "_model_module_version": "1.5.0",
            "_model_name": "LabelModel",
            "_view_count": null,
            "_view_module": "@jupyter-widgets/controls",
            "_view_module_version": "1.5.0",
            "_view_name": "LabelView",
            "description": "",
            "description_tooltip": null,
            "layout": "IPY_MODEL_76939e3f7e8e488b93c9ebe958d56426",
            "placeholder": "​",
            "style": "IPY_MODEL_f0b435d1f606401995598ac868551c48",
            "value": "Select Start City:"
          }
        },
        "76939e3f7e8e488b93c9ebe958d56426": {
          "model_module": "@jupyter-widgets/base",
          "model_name": "LayoutModel",
          "model_module_version": "1.2.0",
          "state": {
            "_model_module": "@jupyter-widgets/base",
            "_model_module_version": "1.2.0",
            "_model_name": "LayoutModel",
            "_view_count": null,
            "_view_module": "@jupyter-widgets/base",
            "_view_module_version": "1.2.0",
            "_view_name": "LayoutView",
            "align_content": null,
            "align_items": null,
            "align_self": null,
            "border": null,
            "bottom": null,
            "display": null,
            "flex": null,
            "flex_flow": null,
            "grid_area": null,
            "grid_auto_columns": null,
            "grid_auto_flow": null,
            "grid_auto_rows": null,
            "grid_column": null,
            "grid_gap": null,
            "grid_row": null,
            "grid_template_areas": null,
            "grid_template_columns": null,
            "grid_template_rows": null,
            "height": null,
            "justify_content": null,
            "justify_items": null,
            "left": null,
            "margin": null,
            "max_height": null,
            "max_width": null,
            "min_height": null,
            "min_width": null,
            "object_fit": null,
            "object_position": null,
            "order": null,
            "overflow": null,
            "overflow_x": null,
            "overflow_y": null,
            "padding": null,
            "right": null,
            "top": null,
            "visibility": null,
            "width": null
          }
        },
        "f0b435d1f606401995598ac868551c48": {
          "model_module": "@jupyter-widgets/controls",
          "model_name": "DescriptionStyleModel",
          "model_module_version": "1.5.0",
          "state": {
            "_model_module": "@jupyter-widgets/controls",
            "_model_module_version": "1.5.0",
            "_model_name": "DescriptionStyleModel",
            "_view_count": null,
            "_view_module": "@jupyter-widgets/base",
            "_view_module_version": "1.2.0",
            "_view_name": "StyleView",
            "description_width": ""
          }
        },
        "f5105273c4cc493da9df1905243ee4c9": {
          "model_module": "@jupyter-widgets/controls",
          "model_name": "DropdownModel",
          "model_module_version": "1.5.0",
          "state": {
            "_dom_classes": [],
            "_model_module": "@jupyter-widgets/controls",
            "_model_module_version": "1.5.0",
            "_model_name": "DropdownModel",
            "_options_labels": [
              "None",
              "Agra",
              "Ahmedabad",
              "Bengaluru",
              "Bhubaneswar",
              "Chennai",
              "Delhi",
              "Goa",
              "Hyderabad",
              "Jaipur",
              "Kanpur",
              "Kochi",
              "Kolkata",
              "Lucknow",
              "Mumbai",
              "Patna",
              "Pune",
              "Thiruvananthapuram",
              "Udaipur",
              "Varanasi",
              "Vishakhapatnam"
            ],
            "_view_count": null,
            "_view_module": "@jupyter-widgets/controls",
            "_view_module_version": "1.5.0",
            "_view_name": "DropdownView",
            "description": "",
            "description_tooltip": null,
            "disabled": false,
            "index": 14,
            "layout": "IPY_MODEL_86db3158837540a69113e985d229e24c",
            "style": "IPY_MODEL_442fe29557524ee98919665cd17f6b9a"
          }
        },
        "86db3158837540a69113e985d229e24c": {
          "model_module": "@jupyter-widgets/base",
          "model_name": "LayoutModel",
          "model_module_version": "1.2.0",
          "state": {
            "_model_module": "@jupyter-widgets/base",
            "_model_module_version": "1.2.0",
            "_model_name": "LayoutModel",
            "_view_count": null,
            "_view_module": "@jupyter-widgets/base",
            "_view_module_version": "1.2.0",
            "_view_name": "LayoutView",
            "align_content": null,
            "align_items": null,
            "align_self": null,
            "border": null,
            "bottom": null,
            "display": null,
            "flex": null,
            "flex_flow": null,
            "grid_area": null,
            "grid_auto_columns": null,
            "grid_auto_flow": null,
            "grid_auto_rows": null,
            "grid_column": null,
            "grid_gap": null,
            "grid_row": null,
            "grid_template_areas": null,
            "grid_template_columns": null,
            "grid_template_rows": null,
            "height": null,
            "justify_content": null,
            "justify_items": null,
            "left": null,
            "margin": null,
            "max_height": null,
            "max_width": null,
            "min_height": null,
            "min_width": null,
            "object_fit": null,
            "object_position": null,
            "order": null,
            "overflow": null,
            "overflow_x": null,
            "overflow_y": null,
            "padding": null,
            "right": null,
            "top": null,
            "visibility": null,
            "width": null
          }
        },
        "442fe29557524ee98919665cd17f6b9a": {
          "model_module": "@jupyter-widgets/controls",
          "model_name": "DescriptionStyleModel",
          "model_module_version": "1.5.0",
          "state": {
            "_model_module": "@jupyter-widgets/controls",
            "_model_module_version": "1.5.0",
            "_model_name": "DescriptionStyleModel",
            "_view_count": null,
            "_view_module": "@jupyter-widgets/base",
            "_view_module_version": "1.2.0",
            "_view_name": "StyleView",
            "description_width": ""
          }
        },
        "fef64dfc72bf4c82882299cb7d9f8bc2": {
          "model_module": "@jupyter-widgets/controls",
          "model_name": "LabelModel",
          "model_module_version": "1.5.0",
          "state": {
            "_dom_classes": [],
            "_model_module": "@jupyter-widgets/controls",
            "_model_module_version": "1.5.0",
            "_model_name": "LabelModel",
            "_view_count": null,
            "_view_module": "@jupyter-widgets/controls",
            "_view_module_version": "1.5.0",
            "_view_name": "LabelView",
            "description": "",
            "description_tooltip": null,
            "layout": "IPY_MODEL_2b30b4eafb8d4f43971881420a41a0b0",
            "placeholder": "​",
            "style": "IPY_MODEL_cc63a23b4dad457794152f63a60aa11a",
            "value": "Select Destination City:"
          }
        },
        "2b30b4eafb8d4f43971881420a41a0b0": {
          "model_module": "@jupyter-widgets/base",
          "model_name": "LayoutModel",
          "model_module_version": "1.2.0",
          "state": {
            "_model_module": "@jupyter-widgets/base",
            "_model_module_version": "1.2.0",
            "_model_name": "LayoutModel",
            "_view_count": null,
            "_view_module": "@jupyter-widgets/base",
            "_view_module_version": "1.2.0",
            "_view_name": "LayoutView",
            "align_content": null,
            "align_items": null,
            "align_self": null,
            "border": null,
            "bottom": null,
            "display": null,
            "flex": null,
            "flex_flow": null,
            "grid_area": null,
            "grid_auto_columns": null,
            "grid_auto_flow": null,
            "grid_auto_rows": null,
            "grid_column": null,
            "grid_gap": null,
            "grid_row": null,
            "grid_template_areas": null,
            "grid_template_columns": null,
            "grid_template_rows": null,
            "height": null,
            "justify_content": null,
            "justify_items": null,
            "left": null,
            "margin": null,
            "max_height": null,
            "max_width": null,
            "min_height": null,
            "min_width": null,
            "object_fit": null,
            "object_position": null,
            "order": null,
            "overflow": null,
            "overflow_x": null,
            "overflow_y": null,
            "padding": null,
            "right": null,
            "top": null,
            "visibility": null,
            "width": null
          }
        },
        "cc63a23b4dad457794152f63a60aa11a": {
          "model_module": "@jupyter-widgets/controls",
          "model_name": "DescriptionStyleModel",
          "model_module_version": "1.5.0",
          "state": {
            "_model_module": "@jupyter-widgets/controls",
            "_model_module_version": "1.5.0",
            "_model_name": "DescriptionStyleModel",
            "_view_count": null,
            "_view_module": "@jupyter-widgets/base",
            "_view_module_version": "1.2.0",
            "_view_name": "StyleView",
            "description_width": ""
          }
        },
        "d8fbb32baa6544e5b008a855a01aed75": {
          "model_module": "@jupyter-widgets/controls",
          "model_name": "DropdownModel",
          "model_module_version": "1.5.0",
          "state": {
            "_dom_classes": [],
            "_model_module": "@jupyter-widgets/controls",
            "_model_module_version": "1.5.0",
            "_model_name": "DropdownModel",
            "_options_labels": [
              "None",
              "Agra",
              "Ahmedabad",
              "Bengaluru",
              "Bhubaneswar",
              "Chennai",
              "Delhi",
              "Goa",
              "Hyderabad",
              "Jaipur",
              "Kanpur",
              "Kochi",
              "Kolkata",
              "Lucknow",
              "Mumbai",
              "Patna",
              "Pune",
              "Thiruvananthapuram",
              "Udaipur",
              "Varanasi",
              "Vishakhapatnam"
            ],
            "_view_count": null,
            "_view_module": "@jupyter-widgets/controls",
            "_view_module_version": "1.5.0",
            "_view_name": "DropdownView",
            "description": "",
            "description_tooltip": null,
            "disabled": false,
            "index": 1,
            "layout": "IPY_MODEL_a63ada9db70b451382908ad5c0cf4ffc",
            "style": "IPY_MODEL_62640ff3926342518250662c345f5526"
          }
        },
        "a63ada9db70b451382908ad5c0cf4ffc": {
          "model_module": "@jupyter-widgets/base",
          "model_name": "LayoutModel",
          "model_module_version": "1.2.0",
          "state": {
            "_model_module": "@jupyter-widgets/base",
            "_model_module_version": "1.2.0",
            "_model_name": "LayoutModel",
            "_view_count": null,
            "_view_module": "@jupyter-widgets/base",
            "_view_module_version": "1.2.0",
            "_view_name": "LayoutView",
            "align_content": null,
            "align_items": null,
            "align_self": null,
            "border": null,
            "bottom": null,
            "display": null,
            "flex": null,
            "flex_flow": null,
            "grid_area": null,
            "grid_auto_columns": null,
            "grid_auto_flow": null,
            "grid_auto_rows": null,
            "grid_column": null,
            "grid_gap": null,
            "grid_row": null,
            "grid_template_areas": null,
            "grid_template_columns": null,
            "grid_template_rows": null,
            "height": null,
            "justify_content": null,
            "justify_items": null,
            "left": null,
            "margin": null,
            "max_height": null,
            "max_width": null,
            "min_height": null,
            "min_width": null,
            "object_fit": null,
            "object_position": null,
            "order": null,
            "overflow": null,
            "overflow_x": null,
            "overflow_y": null,
            "padding": null,
            "right": null,
            "top": null,
            "visibility": null,
            "width": null
          }
        },
        "62640ff3926342518250662c345f5526": {
          "model_module": "@jupyter-widgets/controls",
          "model_name": "DescriptionStyleModel",
          "model_module_version": "1.5.0",
          "state": {
            "_model_module": "@jupyter-widgets/controls",
            "_model_module_version": "1.5.0",
            "_model_name": "DescriptionStyleModel",
            "_view_count": null,
            "_view_module": "@jupyter-widgets/base",
            "_view_module_version": "1.2.0",
            "_view_name": "StyleView",
            "description_width": ""
          }
        },
        "421cbd1287c54fbfb78eef8c672792c3": {
          "model_module": "@jupyter-widgets/controls",
          "model_name": "ButtonModel",
          "model_module_version": "1.5.0",
          "state": {
            "_dom_classes": [],
            "_model_module": "@jupyter-widgets/controls",
            "_model_module_version": "1.5.0",
            "_model_name": "ButtonModel",
            "_view_count": null,
            "_view_module": "@jupyter-widgets/controls",
            "_view_module_version": "1.5.0",
            "_view_name": "ButtonView",
            "button_style": "",
            "description": "Calculate Route",
            "disabled": false,
            "icon": "",
            "layout": "IPY_MODEL_62025db748924637bd50f4626ad8f72a",
            "style": "IPY_MODEL_ee0126fe3a314e578c20de1fdbdad8cd",
            "tooltip": ""
          }
        },
        "62025db748924637bd50f4626ad8f72a": {
          "model_module": "@jupyter-widgets/base",
          "model_name": "LayoutModel",
          "model_module_version": "1.2.0",
          "state": {
            "_model_module": "@jupyter-widgets/base",
            "_model_module_version": "1.2.0",
            "_model_name": "LayoutModel",
            "_view_count": null,
            "_view_module": "@jupyter-widgets/base",
            "_view_module_version": "1.2.0",
            "_view_name": "LayoutView",
            "align_content": null,
            "align_items": null,
            "align_self": null,
            "border": null,
            "bottom": null,
            "display": null,
            "flex": null,
            "flex_flow": null,
            "grid_area": null,
            "grid_auto_columns": null,
            "grid_auto_flow": null,
            "grid_auto_rows": null,
            "grid_column": null,
            "grid_gap": null,
            "grid_row": null,
            "grid_template_areas": null,
            "grid_template_columns": null,
            "grid_template_rows": null,
            "height": null,
            "justify_content": null,
            "justify_items": null,
            "left": null,
            "margin": null,
            "max_height": null,
            "max_width": null,
            "min_height": null,
            "min_width": null,
            "object_fit": null,
            "object_position": null,
            "order": null,
            "overflow": null,
            "overflow_x": null,
            "overflow_y": null,
            "padding": null,
            "right": null,
            "top": null,
            "visibility": null,
            "width": null
          }
        },
        "ee0126fe3a314e578c20de1fdbdad8cd": {
          "model_module": "@jupyter-widgets/controls",
          "model_name": "ButtonStyleModel",
          "model_module_version": "1.5.0",
          "state": {
            "_model_module": "@jupyter-widgets/controls",
            "_model_module_version": "1.5.0",
            "_model_name": "ButtonStyleModel",
            "_view_count": null,
            "_view_module": "@jupyter-widgets/base",
            "_view_module_version": "1.2.0",
            "_view_name": "StyleView",
            "button_color": null,
            "font_weight": ""
          }
        },
        "3f3497a90a5344a5b8a63d10b4b6ad4a": {
          "model_module": "@jupyter-widgets/output",
          "model_name": "OutputModel",
          "model_module_version": "1.0.0",
          "state": {
            "_dom_classes": [],
            "_model_module": "@jupyter-widgets/output",
            "_model_module_version": "1.0.0",
            "_model_name": "OutputModel",
            "_view_count": null,
            "_view_module": "@jupyter-widgets/output",
            "_view_module_version": "1.0.0",
            "_view_name": "OutputView",
            "layout": "IPY_MODEL_f6043a000d6f47c7abca8edba1051455",
            "msg_id": "",
            "outputs": [
              {
                "output_type": "stream",
                "name": "stdout",
                "text": [
                  "Shortest path from Mumbai to Agra:\n",
                  "Mumbai -> Delhi -> Agra\n",
                  "Total distance: 1696 km\n"
                ]
              }
            ]
          }
        },
        "f6043a000d6f47c7abca8edba1051455": {
          "model_module": "@jupyter-widgets/base",
          "model_name": "LayoutModel",
          "model_module_version": "1.2.0",
          "state": {
            "_model_module": "@jupyter-widgets/base",
            "_model_module_version": "1.2.0",
            "_model_name": "LayoutModel",
            "_view_count": null,
            "_view_module": "@jupyter-widgets/base",
            "_view_module_version": "1.2.0",
            "_view_name": "LayoutView",
            "align_content": null,
            "align_items": null,
            "align_self": null,
            "border": null,
            "bottom": null,
            "display": null,
            "flex": null,
            "flex_flow": null,
            "grid_area": null,
            "grid_auto_columns": null,
            "grid_auto_flow": null,
            "grid_auto_rows": null,
            "grid_column": null,
            "grid_gap": null,
            "grid_row": null,
            "grid_template_areas": null,
            "grid_template_columns": null,
            "grid_template_rows": null,
            "height": null,
            "justify_content": null,
            "justify_items": null,
            "left": null,
            "margin": null,
            "max_height": null,
            "max_width": null,
            "min_height": null,
            "min_width": null,
            "object_fit": null,
            "object_position": null,
            "order": null,
            "overflow": null,
            "overflow_x": null,
            "overflow_y": null,
            "padding": null,
            "right": null,
            "top": null,
            "visibility": null,
            "width": null
          }
        }
      }
    }
  },
  "cells": [
    {
      "cell_type": "markdown",
      "metadata": {
        "id": "view-in-github",
        "colab_type": "text"
      },
      "source": [
        "<a href=\"https://colab.research.google.com/github/ARPRAHMAN/AI_Problems/blob/AI/AI_W4_6168.ipynb\" target=\"_parent\"><img src=\"https://colab.research.google.com/assets/colab-badge.svg\" alt=\"Open In Colab\"/></a>"
      ]
    },
    {
      "cell_type": "markdown",
      "source": [
        "# Topic: A* search\n",
        "\n",
        "\n",
        "*   Algorithm make\n",
        "*   user Interface\n",
        "\n"
      ],
      "metadata": {
        "id": "SxZ5aKd5nJMJ"
      }
    },
    {
      "cell_type": "markdown",
      "source": [
        "# Algorithm Make\n",
        "A*=f(n)=E(c)+p(c)                      "
      ],
      "metadata": {
        "id": "onAt7Rz0nbrg"
      }
    },
    {
      "cell_type": "markdown",
      "source": [
        "**Fucntions**\n",
        "\n",
        "\n",
        "1.   Directed condition\n",
        "2.   Undirected Condition\n",
        "\n",
        "3.   Temporary Vairable\n",
        "4.   CSV file read\n",
        "\n",
        "\n",
        "1.   Connect Graph\n",
        "2.   heuristic value\n",
        "\n",
        "1.   A*\n",
        "2.   Interface Connect\n",
        "\n",
        "\n",
        "\n",
        "\n",
        "\n",
        "\n"
      ],
      "metadata": {
        "id": "csgpsGkbpxmY"
      }
    },
    {
      "cell_type": "markdown",
      "source": [
        "***Home taskes***\n",
        "\n",
        "*   Add a column in the datset where random value generate name in column name: Heuristic\n",
        "\n",
        "\n"
      ],
      "metadata": {
        "id": "vO9G_hKTuTcZ"
      }
    },
    {
      "cell_type": "code",
      "source": [
        "from sys import path\n",
        "import csv\n",
        "import heapq\n",
        "import ipywidgets as widgets\n",
        "from IPython.display import display, clear_output\n",
        "\n",
        "# clear representing the graph\n",
        "class Graph:\n",
        "    def __init__(self, graph_dict=None, directed=True):\n",
        "        self.graph_dict = graph_dict or {}\n",
        "        self.directed = directed\n",
        "        if not directed:\n",
        "            self.make_undirected()\n",
        "\n",
        "    # Method to make the graph undirected by adding reverse edges\n",
        "    def make_undirected(self):\n",
        "        for a in list(self.graph_dict.keys()):\n",
        "            for (b, dist) in self.graph_dict[a].items():\n",
        "                self.graph_dict.setdefault(b, {})[a] = dist\n",
        "\n",
        "    # Method to connect two cities with a given distance\n",
        "    def connect(self, A, B, distance=1):\n",
        "        self.graph_dict.setdefault(A, {})[B] = distance\n",
        "        if not self.directed:\n",
        "            self.graph_dict.setdefault(B, {})[A] = distance\n",
        "\n",
        "    # Method to get neighbors of a city\n",
        "    def get(self, a, b=None):\n",
        "        links = self.graph_dict.setdefault(a, {})\n",
        "        if b is None:\n",
        "            return links\n",
        "        else:\n",
        "            return links.get(b)\n",
        "\n",
        "    # function read data from CSV file\n",
        "    def read_csv(self, filename):\n",
        "        with open(filename, 'r') as csvfile:\n",
        "            reader = csv.reader(csvfile)\n",
        "            next(reader)\n",
        "            data = [row for row in reader]\n",
        "        return data\n",
        "\n",
        "# function to extract graph from the read csv file's data\n",
        "def extract_graph(data):\n",
        "    graph = Graph()\n",
        "    for row in data:\n",
        "        origin, destination, distance = row\n",
        "        graph.connect(origin, destination, int(distance))\n",
        "    return graph\n",
        "\n",
        "# heuristic function\n",
        "def heuristic(city, end_city):\n",
        "    return 0\n",
        "\n",
        "# A* function\n",
        "def astar_search(graph, start, end):\n",
        "    open_list = []  # f(n)\n",
        "    heapq.heappush(open_list, (0, start, []))\n",
        "    visited = set()\n",
        "\n",
        "    while open_list:\n",
        "        cost, current_city, path = heapq.heappop(open_list)\n",
        "\n",
        "        if current_city == end:\n",
        "            path.append(current_city)\n",
        "            return path, cost\n",
        "\n",
        "        if current_city not in visited:\n",
        "            visited.add(current_city)\n",
        "            for neighbor, distance in graph.get(current_city).items():\n",
        "                total_cost = cost + distance + heuristic(neighbor, end)\n",
        "                heapq.heappush(open_list, (total_cost, neighbor, path + [current_city]))\n",
        "    return None, float('inf')\n",
        "\n",
        "# main function to create widgets and handle button clicks\n",
        "def main():\n",
        "    data = Graph().read_csv('/content/drive/MyDrive/AI_dataset/indian-cities-dataset.csv')\n",
        "    graph = extract_graph(data)\n",
        "\n",
        "    # extract and sort unique cities from the dataset\n",
        "    unique_cities = sorted(set(row[0] for row in data))\n",
        "    cities_list = [None] + unique_cities\n",
        "\n",
        "    # create labels, dropdowns, buttons, and output widget\n",
        "    start_label = widgets.Label('Select Start City:')\n",
        "    start_city_dropdown = widgets.Dropdown(options=cities_list)\n",
        "    end_label = widgets.Label('Select Destination City:')\n",
        "    end_city_dropdown = widgets.Dropdown(options=cities_list)\n",
        "\n",
        "    calculate_button = widgets.Button(description='Calculate Route')\n",
        "    output = widgets.Output()\n",
        "\n",
        "    # Function to handle button click event\n",
        "    def on_calculate_button_click(b):\n",
        "        start_city = start_city_dropdown.value\n",
        "        end_city = end_city_dropdown.value\n",
        "\n",
        "        with output:\n",
        "            clear_output()\n",
        "            if start_city is None or end_city is None:\n",
        "                print('Please select both start and end cities.')\n",
        "            elif start_city == end_city:\n",
        "                print('Start and end cities cannot be the same.')\n",
        "            else:\n",
        "                path, total_distance = astar_search(graph, start_city, end_city)\n",
        "                if path:\n",
        "                    print(f'Shortest path from {start_city} to {end_city}:')\n",
        "                    print(' -> '.join(path))\n",
        "                    print(f'Total distance: {total_distance} km')\n",
        "                else:\n",
        "                    print(f'No path found from {start_city} to {end_city}.')\n",
        "\n",
        "    calculate_button.on_click(on_calculate_button_click)\n",
        "    display(start_label, start_city_dropdown, end_label, end_city_dropdown, calculate_button, output)\n",
        "\n",
        "if __name__ == '__main__':\n",
        "    main()\n"
      ],
      "metadata": {
        "colab": {
          "base_uri": "https://localhost:8080/",
          "height": 223,
          "referenced_widgets": [
            "bef7aba9d3764b88a966d9a55770d786",
            "76939e3f7e8e488b93c9ebe958d56426",
            "f0b435d1f606401995598ac868551c48",
            "f5105273c4cc493da9df1905243ee4c9",
            "86db3158837540a69113e985d229e24c",
            "442fe29557524ee98919665cd17f6b9a",
            "fef64dfc72bf4c82882299cb7d9f8bc2",
            "2b30b4eafb8d4f43971881420a41a0b0",
            "cc63a23b4dad457794152f63a60aa11a",
            "d8fbb32baa6544e5b008a855a01aed75",
            "a63ada9db70b451382908ad5c0cf4ffc",
            "62640ff3926342518250662c345f5526",
            "421cbd1287c54fbfb78eef8c672792c3",
            "62025db748924637bd50f4626ad8f72a",
            "ee0126fe3a314e578c20de1fdbdad8cd",
            "3f3497a90a5344a5b8a63d10b4b6ad4a",
            "f6043a000d6f47c7abca8edba1051455"
          ]
        },
        "id": "hTFaDjH41i2Y",
        "outputId": "ff935c70-e913-4c16-a95c-d42953f82a03"
      },
      "execution_count": null,
      "outputs": [
        {
          "output_type": "display_data",
          "data": {
            "text/plain": [
              "Label(value='Select Start City:')"
            ],
            "application/vnd.jupyter.widget-view+json": {
              "version_major": 2,
              "version_minor": 0,
              "model_id": "bef7aba9d3764b88a966d9a55770d786"
            }
          },
          "metadata": {}
        },
        {
          "output_type": "display_data",
          "data": {
            "text/plain": [
              "Dropdown(options=(None, 'Agra', 'Ahmedabad', 'Bengaluru', 'Bhubaneswar', 'Chennai', 'Delhi', 'Goa', 'Hyderabad…"
            ],
            "application/vnd.jupyter.widget-view+json": {
              "version_major": 2,
              "version_minor": 0,
              "model_id": "f5105273c4cc493da9df1905243ee4c9"
            }
          },
          "metadata": {}
        },
        {
          "output_type": "display_data",
          "data": {
            "text/plain": [
              "Label(value='Select Destination City:')"
            ],
            "application/vnd.jupyter.widget-view+json": {
              "version_major": 2,
              "version_minor": 0,
              "model_id": "fef64dfc72bf4c82882299cb7d9f8bc2"
            }
          },
          "metadata": {}
        },
        {
          "output_type": "display_data",
          "data": {
            "text/plain": [
              "Dropdown(options=(None, 'Agra', 'Ahmedabad', 'Bengaluru', 'Bhubaneswar', 'Chennai', 'Delhi', 'Goa', 'Hyderabad…"
            ],
            "application/vnd.jupyter.widget-view+json": {
              "version_major": 2,
              "version_minor": 0,
              "model_id": "d8fbb32baa6544e5b008a855a01aed75"
            }
          },
          "metadata": {}
        },
        {
          "output_type": "display_data",
          "data": {
            "text/plain": [
              "Button(description='Calculate Route', style=ButtonStyle())"
            ],
            "application/vnd.jupyter.widget-view+json": {
              "version_major": 2,
              "version_minor": 0,
              "model_id": "421cbd1287c54fbfb78eef8c672792c3"
            }
          },
          "metadata": {}
        },
        {
          "output_type": "display_data",
          "data": {
            "text/plain": [
              "Output()"
            ],
            "application/vnd.jupyter.widget-view+json": {
              "version_major": 2,
              "version_minor": 0,
              "model_id": "3f3497a90a5344a5b8a63d10b4b6ad4a"
            }
          },
          "metadata": {}
        }
      ]
    }
  ]
}