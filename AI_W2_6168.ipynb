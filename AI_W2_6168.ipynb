{
  "nbformat": 4,
  "nbformat_minor": 0,
  "metadata": {
    "colab": {
      "provenance": [],
      "authorship_tag": "ABX9TyOOhmrixrlqxffOmZ9ntpC+",
      "include_colab_link": true
    },
    "kernelspec": {
      "name": "python3",
      "display_name": "Python 3"
    },
    "language_info": {
      "name": "python"
    }
  },
  "cells": [
    {
      "cell_type": "markdown",
      "metadata": {
        "id": "view-in-github",
        "colab_type": "text"
      },
      "source": [
        "<a href=\"https://colab.research.google.com/github/ARPRAHMAN/ARPRAHMAN/blob/main/AI_W2_6168.ipynb\" target=\"_parent\"><img src=\"https://colab.research.google.com/assets/colab-badge.svg\" alt=\"Open In Colab\"/></a>"
      ]
    },
    {
      "cell_type": "markdown",
      "source": [
        "***Breadth First Search***\n",
        "\n",
        "\n",
        "*   Uninformed search\n",
        "*   Used for Priority Analysis, Semantic Analysis.\n",
        "*   Path Searching Algorithm\n",
        "*   Mutual Connection identify in social media platform\n",
        "*   Degree count of any single element\n",
        "*   Piroty Level identify\n",
        "*   Traverse But Root\n",
        "*   Root -> Left -> Right (Label based)\n",
        "*   List item\n",
        "\n",
        "\n",
        "\n",
        "\n",
        "\n",
        "\n",
        "\n",
        "\n",
        "\n"
      ],
      "metadata": {
        "id": "RHenkW9Phb8r"
      }
    },
    {
      "cell_type": "code",
      "execution_count": 1,
      "metadata": {
        "id": "tM4WkP3WdDpd"
      },
      "outputs": [],
      "source": [
        "graph = {\n",
        "    '5' : ['3','7'],\n",
        "    '3' : ['2', '4'],\n",
        "    '7' : ['8'],\n",
        "    '2' : [],\n",
        "    '4' : ['8'],\n",
        "    '8' : []\n",
        "}\n",
        "visited = [] #list for visited nodes\n",
        "queue = [] #Initialize a queue"
      ]
    },
    {
      "cell_type": "code",
      "source": [
        "def bfs(visited, graph, node): #function for BFS\n",
        "  visited.append(node)\n",
        "  queue.append(node)\n",
        "  while queue: # Creating loop to visit each node\n",
        "    m = queue.pop(0)\n",
        "    print(m, end = \" \")\n",
        "    for neighbour in graph[m]:\n",
        "      if neighbour not in visited:\n",
        "        visited.append(neighbour)\n",
        "        queue.append(neighbour)"
      ],
      "metadata": {
        "id": "prtnmlxcpeV3"
      },
      "execution_count": 2,
      "outputs": []
    },
    {
      "cell_type": "code",
      "source": [
        "#Driver code\n",
        "print(\"Following is the Breadth-First Search\")\n",
        "bfs(visited, graph, '5')"
      ],
      "metadata": {
        "colab": {
          "base_uri": "https://localhost:8080/"
        },
        "id": "NboHtJJMpuh3",
        "outputId": "a9ea05b3-1452-4828-ccb0-5acf06f91fd6"
      },
      "execution_count": 3,
      "outputs": [
        {
          "output_type": "stream",
          "name": "stdout",
          "text": [
            "Following is the Breadth-First Search\n",
            "5 3 7 2 4 8 "
          ]
        }
      ]
    },
    {
      "cell_type": "markdown",
      "source": [
        "**Problem** :\n",
        "Suppose Alice have a country land, car parking company where people can hire car for hiking. Now cars are occupied by the different state depending on the weather. Now apply BFS to find out the priority of available cars with connected Roots on the given dataset.\n",
        "\n",
        "***Dataset**\n",
        "\n",
        "\n",
        "1.   Cars: Car1 to Car6\n",
        "2.   Weather : Cars4 is occupied for 4hour for NY & CA city\n",
        "1.   City : Boston, CA, Menico, NY, Kansas, AB\n",
        "\n",
        "\n",
        "\n",
        "\n",
        "\n",
        "\n",
        "\n",
        "\n"
      ],
      "metadata": {
        "id": "-guFFKeap7gn"
      }
    },
    {
      "cell_type": "code",
      "source": [
        "city_cars = {\n",
        "    'Boston': ['Car1'],\n",
        "    'CA': ['Car2', 'Car4'],\n",
        "    'Mexico': ['Car3'],\n",
        "    'NY': ['Car4'],\n",
        "    'Kansas': ['Car5'],\n",
        "    'AB': ['Car6']\n",
        "}\n",
        "occupied = {\n",
        "    'Car4': ['CA', 'NY']\n",
        "}\n",
        "visited =[]\n",
        "queue = []"
      ],
      "metadata": {
        "id": "W_AjxndprNcH"
      },
      "execution_count": 4,
      "outputs": []
    },
    {
      "cell_type": "code",
      "source": [
        "def available_cars(visited, city_cars, node):\n",
        "  visited.append(node)\n",
        "  queue.append(node)\n",
        "  while queue:\n",
        "    m = queue.pop(0)\n",
        "    print(m, end = \" \")\n",
        "    for neighbour in city_cars[m]:\n",
        "      if neighbour not in visited:\n",
        "        visited.append(neighbour)\n",
        "        queue.append(neighbour)"
      ],
      "metadata": {
        "id": "WLlDV2ySskUv"
      },
      "execution_count": null,
      "outputs": []
    }
  ]
}