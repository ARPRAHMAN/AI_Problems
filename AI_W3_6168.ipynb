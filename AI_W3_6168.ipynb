{
  "nbformat": 4,
  "nbformat_minor": 0,
  "metadata": {
    "colab": {
      "provenance": [],
      "authorship_tag": "ABX9TyNI34W55TtiA7kBroYatvs9",
      "include_colab_link": true
    },
    "kernelspec": {
      "name": "python3",
      "display_name": "Python 3"
    },
    "language_info": {
      "name": "python"
    }
  },
  "cells": [
    {
      "cell_type": "markdown",
      "metadata": {
        "id": "view-in-github",
        "colab_type": "text"
      },
      "source": [
        "<a href=\"https://colab.research.google.com/github/ARPRAHMAN/AI_Problems/blob/main/AI_W3_6168.ipynb\" target=\"_parent\"><img src=\"https://colab.research.google.com/assets/colab-badge.svg\" alt=\"Open In Colab\"/></a>"
      ]
    },
    {
      "cell_type": "markdown",
      "source": [
        "# **DFS** + WATER JUG PROBLEM"
      ],
      "metadata": {
        "id": "anI00Ae1iZEH"
      }
    },
    {
      "cell_type": "markdown",
      "source": [
        "# **Depth -> left -> Right -> Root**\n",
        "**# Depth going on left side then check right side**"
      ],
      "metadata": {
        "id": "je_Y6y5NjA8v"
      }
    },
    {
      "cell_type": "code",
      "execution_count": null,
      "metadata": {
        "id": "CWWXbP1thw5i"
      },
      "outputs": [],
      "source": []
    }
  ]
}