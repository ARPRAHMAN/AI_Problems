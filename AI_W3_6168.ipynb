{
  "nbformat": 4,
  "nbformat_minor": 0,
  "metadata": {
    "colab": {
      "provenance": [],
      "authorship_tag": "ABX9TyOs7G96DhICaSIiNjHenAHs",
      "include_colab_link": true
    },
    "kernelspec": {
      "name": "python3",
      "display_name": "Python 3"
    },
    "language_info": {
      "name": "python"
    }
  },
  "cells": [
    {
      "cell_type": "markdown",
      "metadata": {
        "id": "view-in-github",
        "colab_type": "text"
      },
      "source": [
        "<a href=\"https://colab.research.google.com/github/ARPRAHMAN/AI_Problems/blob/AI/AI_W3_6168.ipynb\" target=\"_parent\"><img src=\"https://colab.research.google.com/assets/colab-badge.svg\" alt=\"Open In Colab\"/></a>"
      ]
    },
    {
      "cell_type": "markdown",
      "source": [
        "# **DFS** + WATER JUG PROBLEM"
      ],
      "metadata": {
        "id": "anI00Ae1iZEH"
      }
    },
    {
      "cell_type": "markdown",
      "source": [
        "# **Depth -> left -> Right -> Root**\n",
        "**# Depth going on left side then check right side**"
      ],
      "metadata": {
        "id": "je_Y6y5NjA8v"
      }
    },
    {
      "cell_type": "code",
      "execution_count": null,
      "metadata": {
        "id": "tM4WkP3WdDpd",
        "colab": {
          "base_uri": "https://localhost:8080/"
        },
        "outputId": "667ddbfd-e18f-4d1f-c363-78262a0c2ca3"
      },
      "outputs": [
        {
          "output_type": "stream",
          "name": "stdout",
          "text": [
            "Following is the Depth-First Search(Iterative):\n",
            "5\n",
            "7\n",
            "8\n",
            "3\n",
            "4\n",
            "2\n"
          ]
        }
      ],
      "source": [
        "graph = {\n",
        "    '5' : ['3','7'],\n",
        "    '3' : ['2', '4'],\n",
        "    '7' : ['8'],\n",
        "    '2' : [],\n",
        "    '4' : ['8'],\n",
        "    '8' : []\n",
        "}\n",
        "def dfs_iterative(graph, start_node):\n",
        "    visited = set() #set to track visited nodes\n",
        "    stack = [start_node] # using a stack to simulate recursion\n",
        "\n",
        "    while stack:\n",
        "        node = stack.pop() # remove the last added element (LIFO)\n",
        "        if node not in visited:\n",
        "            print(node) #process the node\n",
        "            visited.add(node)\n",
        "            #add neighbors to the stack in reverse order to maintain order\n",
        "            stack.extend(graph[node])\n",
        "\n",
        "#Driver code\n",
        "print(\"Following is the Depth-First Search(Iterative):\")\n",
        "dfs_iterative(graph, '5')"
      ]
    },
    {
      "cell_type": "markdown",
      "source": [
        "# **Water Jug problem**"
      ],
      "metadata": {
        "id": "IGa44pI0qtLe"
      }
    },
    {
      "cell_type": "code",
      "source": [
        " #importing the defaultdict to track visited\n",
        "from collections import defaultdict\n",
        "\n",
        "\n",
        "# define the capacities of the two jugs and the target amount\n",
        "jug1,jug2,aim = 4,3,2\n",
        "\n",
        "#initialize a dictonary to track visited states (default value is false)\n",
        "visited = defaultdict(lambda: False)\n",
        "\n",
        "def waterJugSolver(amt1, amt2):\n",
        "  if(amt1 == aim and amt2 == 0) or (amt2 == aim and amt1 == 0):\n",
        "    print(amt1, amt2)\n",
        "    return True\n",
        "\n",
        "  if not visited[(amt1, amt2)]:\n",
        "    visited[(amt1, amt2)] = True\n",
        "    print (amt1, amt2)\n",
        "\n",
        "#recursive\n",
        "    return(\n",
        "        waterJugSolver(0, amt2) or\n",
        "          waterJugSolver(amt1, 0) or\n",
        "          waterJugSolver(jug1, amt2) or\n",
        "          waterJugSolver(amt1, jug2) or\n",
        "        waterJugSolver(\n",
        "            amt1 + min(amt2, (jug1-amt1)),\n",
        "            amt2 - min(amt2, (jug1-amt1))\n",
        "            ) or\n",
        "        waterJugSolver(\n",
        "            amt1 - min(amt1, (jug2-amt2)),\n",
        "            amt2 + min(amt1, (jug2-amt2))\n",
        "            )\n",
        "    )\n",
        "  else:\n",
        "      return False\n",
        "\n",
        "print(\"Steps to reach the solution: \")\n",
        "if not waterJugSolver(0,0):\n",
        "  print(\"No solution\")"
      ],
      "metadata": {
        "id": "bDAWgc1Vo6eW",
        "colab": {
          "base_uri": "https://localhost:8080/"
        },
        "outputId": "df76002d-ecf4-400c-9423-898fc572f5f5"
      },
      "execution_count": null,
      "outputs": [
        {
          "output_type": "stream",
          "name": "stdout",
          "text": [
            "Steps to reach the solution: \n",
            "0 0\n",
            "4 0\n",
            "4 3\n",
            "0 3\n",
            "3 0\n",
            "3 3\n",
            "4 2\n",
            "0 2\n"
          ]
        }
      ]
    },
    {
      "cell_type": "markdown",
      "source": [
        "**Print DFS basic output using same Dataset**"
      ],
      "metadata": {
        "id": "BfdSafM-w6n2"
      }
    },
    {
      "cell_type": "code",
      "source": [
        "graph = {\n",
        "    '5' : ['3','7'],\n",
        "    '3' : ['2','4'],\n",
        "    '7' : ['8'],\n",
        "    '2' : [],\n",
        "    '4' : ['8'],\n",
        "    '8' : []\n",
        "}\n",
        "\n",
        "def dfs_iterative(graph, start_node):\n",
        "    visited = set()\n",
        "    stack = [start_node]\n",
        "    output_stack = []  # to store nodes\n",
        "\n",
        "    while stack:\n",
        "        node = stack.pop()\n",
        "        if node not in visited:\n",
        "            visited.add(node)\n",
        "            output_stack.append(node)\n",
        "            # Add neighbors as-is (not reversed)\n",
        "            stack.extend(graph[node])\n",
        "\n",
        "    # The output_stack has nodes in reverse postorder, so reverse it\n",
        "    while output_stack:\n",
        "        print(output_stack.pop())\n",
        "\n",
        "print(\"Following is the Depth-First Search:\")\n",
        "dfs_iterative(graph, '5')"
      ],
      "metadata": {
        "colab": {
          "base_uri": "https://localhost:8080/"
        },
        "id": "-obQqZYhwPBW",
        "outputId": "7ae306f1-2164-4986-e98c-a10942b2aa95"
      },
      "execution_count": null,
      "outputs": [
        {
          "output_type": "stream",
          "name": "stdout",
          "text": [
            "Following is the Depth-First Search:\n",
            "2\n",
            "4\n",
            "3\n",
            "8\n",
            "7\n",
            "5\n"
          ]
        }
      ]
    },
    {
      "cell_type": "markdown",
      "source": [
        "**You are given 2 water jugs. Jug A has capacity of 7 liters, jug B has capacity of 4 liters. your goal is to measure exactly 2 liters in jug A only**"
      ],
      "metadata": {
        "id": "Xp1wq5XIvGz2"
      }
    },
    {
      "cell_type": "code",
      "source": [
        "from collections import defaultdict\n",
        "\n",
        "jug1, jug2, target = 7, 4, 2  # Updated jug capacities and target\n",
        "\n",
        "visited = defaultdict(lambda: False)\n",
        "\n",
        "def water_jug_problem(amt1, amt2):\n",
        "    \"\"\"\n",
        "    Recursive function to solve the water jug problem using DFS with backtrack\n",
        "    \"\"\"\n",
        "    # Check goal state: exactly target liters in jug1 and jug2 empty\n",
        "    if amt1 == target and amt2 == 0:\n",
        "        print(f\"Goal state reached: ({amt1}, {amt2})\")\n",
        "        return True\n",
        "\n",
        "    if not visited[(amt1, amt2)]:\n",
        "        print(f\"Current state: ({amt1}, {amt2})\")\n",
        "        visited[(amt1, amt2)] = True\n",
        "\n",
        "        return (\n",
        "            water_jug_problem(0, amt2) or  # Empty jug1\n",
        "            water_jug_problem(amt1, 0) or  # Empty jug2\n",
        "            water_jug_problem(jug1, amt2) or  # Fill jug1 completely\n",
        "            water_jug_problem(amt1, jug2) or  # Fill jug2 completely\n",
        "            # Pour jug2 -> jug1\n",
        "            water_jug_problem(\n",
        "                amt1 + min(amt2, (jug1 - amt1)),\n",
        "                amt2 - min(amt2, (jug1 - amt1))\n",
        "            ) or\n",
        "            # Pour jug1 -> jug2\n",
        "            water_jug_problem(\n",
        "                amt1 - min(amt1, (jug2 - amt2)),\n",
        "                amt2 + min(amt1, (jug2 - amt2))\n",
        "            )\n",
        "        )\n",
        "    else:\n",
        "        return False\n",
        "\n",
        "print(\"Steps to reach the solution:\")\n",
        "if not water_jug_problem(0, 0):\n",
        "    print(\"No solution found\")"
      ],
      "metadata": {
        "colab": {
          "base_uri": "https://localhost:8080/"
        },
        "id": "XUlwSrioxfv-",
        "outputId": "71e2d946-2e8e-4321-c0f9-647d356ace94"
      },
      "execution_count": null,
      "outputs": [
        {
          "output_type": "stream",
          "name": "stdout",
          "text": [
            "Steps to reach the solution:\n",
            "Current state: (0, 0)\n",
            "Current state: (7, 0)\n",
            "Current state: (7, 4)\n",
            "Current state: (0, 4)\n",
            "Current state: (4, 0)\n",
            "Current state: (4, 4)\n",
            "Current state: (7, 1)\n",
            "Current state: (0, 1)\n",
            "Current state: (1, 0)\n",
            "Current state: (1, 4)\n",
            "Current state: (5, 0)\n",
            "Current state: (5, 4)\n",
            "Current state: (7, 2)\n",
            "Current state: (0, 2)\n",
            "Goal state reached: (2, 0)\n"
          ]
        }
      ]
    }
  ]
}